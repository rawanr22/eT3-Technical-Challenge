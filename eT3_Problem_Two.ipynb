{
  "nbformat": 4,
  "nbformat_minor": 0,
  "metadata": {
    "colab": {
      "provenance": []
    },
    "kernelspec": {
      "name": "python3",
      "display_name": "Python 3"
    },
    "language_info": {
      "name": "python"
    }
  },
  "cells": [
    {
      "cell_type": "code",
      "execution_count": 2,
      "metadata": {
        "id": "DBFo6XDWPZDD"
      },
      "outputs": [],
      "source": [
        "import json"
      ]
    },
    {
      "cell_type": "code",
      "source": [
        "from google.colab import drive\n",
        "drive.mount('/content/gdrive')"
      ],
      "metadata": {
        "colab": {
          "base_uri": "https://localhost:8080/"
        },
        "id": "QUDjY7GAkySC",
        "outputId": "9af1998e-aa7b-49d3-fd86-223b2c78b36c"
      },
      "execution_count": 3,
      "outputs": [
        {
          "output_type": "stream",
          "name": "stdout",
          "text": [
            "Mounted at /content/gdrive\n",
            "Drive already mounted at /content/gdrive; to attempt to forcibly remount, call drive.mount(\"/content/gdrive\", force_remount=True).\n"
          ]
        }
      ]
    },
    {
      "cell_type": "code",
      "source": [
        "input_file= '/content/gdrive/MyDrive/eT3Internship2023/problem2/image1.txt'\n",
        "with open(input_file, 'r') as f: #reading the image file\n",
        "    lines = f.readlines()\n",
        "\n",
        "#creating a dictionary that specifies the JSON file structure\n",
        "json_data = {\n",
        "    \"annotations\": [\n",
        "        {\n",
        "            \"result\": []\n",
        "        }\n",
        "    ],\n",
        "    \"data\": {\n",
        "        \"image\": \"/content/gdrive/MyDrive/eT3Internship2023/problem2/image1.txt\"\n",
        "    }\n",
        "}\n",
        "\n",
        "for line in lines:\n",
        "    values = line.split() #spliting the values to obtain the x, y, width,and hight\n",
        "    if len(values) == 5: #adding the values of each line to a dictionary\n",
        "        annotation = {\n",
        "            \"image_rotation\": 0,\n",
        "            \"value\": {\n",
        "                \"x\": float(values[1]),\n",
        "                \"y\": float(values[2]),\n",
        "                \"width\": float(values[3]),\n",
        "                \"height\": float(values[4]),\n",
        "                \"rotation\": 0,\n",
        "                \"rectanglelabels\": [\"object\"]\n",
        "            }\n",
        "        }\n",
        "        json_data[\"annotations\"][0][\"result\"].append(annotation) #appending the data to the json dictionary specified earlier\n"
      ],
      "metadata": {
        "id": "ddyAagjvZU2b"
      },
      "execution_count": 10,
      "outputs": []
    },
    {
      "cell_type": "code",
      "source": [
        "#writing the json data to a new file\n",
        "output_json = '/content/gdrive/MyDrive/eT3Internship2023/problem2/output.json'\n",
        "with open(output_json, 'w') as json_file:\n",
        "    json.dump(json_data, json_file, indent=4)\n",
        "\n",
        "print(\"JSON Data Saved.\")"
      ],
      "metadata": {
        "colab": {
          "base_uri": "https://localhost:8080/"
        },
        "id": "Af8S6Rv2lef9",
        "outputId": "deb9e429-dfe2-44b9-c270-4e7f7c1b6169"
      },
      "execution_count": 12,
      "outputs": [
        {
          "output_type": "stream",
          "name": "stdout",
          "text": [
            "JSON Data Saved.\n"
          ]
        }
      ]
    }
  ]
}